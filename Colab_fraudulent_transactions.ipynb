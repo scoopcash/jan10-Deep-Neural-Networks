{
  "cells": [
    {
      "cell_type": "markdown",
      "metadata": {
        "id": "view-in-github",
        "colab_type": "text"
      },
      "source": [
        "<a href=\"https://colab.research.google.com/github/scoopcash/jan10-Deep-Neural-Networks/blob/main/Colab_fraudulent_transactions.ipynb\" target=\"_parent\"><img src=\"https://colab.research.google.com/assets/colab-badge.svg\" alt=\"Open In Colab\"/></a>"
      ]
    },
    {
      "cell_type": "markdown",
      "metadata": {
        "id": "WfKM3o7BTWlm"
      },
      "source": [
        "# Predicting Fraudulent Transactions Using Neural Networks\n",
        "\n",
        "Now that you’ve learned how to build a deep neural network, you’ll apply those skills to create a deep learning model that can predict financial fraud. But in this activity, rather than a regression deep learning model, you will create a classification deep learning model.\n",
        "\n",
        "## Instructions:\n",
        "\n",
        "### Load and Preprocess the Data\n",
        "\n",
        "1. Read the data from the CSV file into a Pandas DataFrame.\n",
        "\n",
        "2. Create the target set `y` by assigning the values of the “isFraud” column of the DataFrame.\n",
        "\n",
        "3. Define the features set `X` by including all of the columns of the DataFrame except for the “isFraud” column.\n",
        "\n",
        "4. Create the training and testing sets using the `train_test_split` function from scikit-learn.\n",
        "\n",
        "5. Scale the features data using the `StandardScaler` from scikit-learn.\n",
        "\n",
        "### Create and Evaluate a Deep Neural Network Model\n",
        "\n",
        "1. Create a deep neural network model with the following structure:\n",
        "\n",
        "    * 9 inputs\n",
        "    * First hidden layer with 18 neurons\n",
        "    * Second hidden layer with 8 neurons\n",
        "    * Output layer with a single output\n",
        "    * Hidden layers use the ReLU activation function, and output layer uses the sigmoid activation function\n",
        "\n",
        "2. Display the model structure using the 'summary` function.\n",
        "\n",
        "3. Compile the neural network model using the `binary_crossentropy` loss function, the `adam` optimizer, and `accuracy` as an additional metric.\n",
        "\n",
        "4. Fit the model with the training data, using 100 epochs.\n",
        "\n",
        "5. Evaluate the model using testing data and the `evaluate` method.\n",
        "\n",
        "\n",
        "## References:\n",
        "\n",
        "[Keras Sequential model](https://keras.io/api/models/sequential/)\n",
        "\n",
        "[Keras Dense module](https://keras.io/api/layers/core_layers/dense/)\n",
        "\n",
        "[Keras evaluate](https://keras.io/api/models/model_training_apis/)"
      ]
    },
    {
      "cell_type": "code",
      "execution_count": 1,
      "metadata": {
        "id": "Hd5VFrrcTWlr"
      },
      "outputs": [],
      "source": [
        "# Imports\n",
        "import pandas as pd\n",
        "import tensorflow as tf\n",
        "from tensorflow.keras.layers import Dense\n",
        "from tensorflow.keras.models import Sequential\n",
        "from sklearn.preprocessing import StandardScaler\n",
        "from sklearn.model_selection import train_test_split"
      ]
    },
    {
      "cell_type": "markdown",
      "metadata": {
        "id": "APRoT9kWTWlt"
      },
      "source": [
        "## Load and Preprocess the Data"
      ]
    },
    {
      "cell_type": "markdown",
      "metadata": {
        "id": "UCo-dGClTWlt"
      },
      "source": [
        "### Step 1: Read the data from the CSV file into a Pandas DataFrame."
      ]
    },
    {
      "cell_type": "code",
      "execution_count": 2,
      "metadata": {
        "colab": {
          "base_uri": "https://localhost:8080/",
          "height": 74
        },
        "id": "L1jmF-bvTWlu",
        "outputId": "117c031a-47a5-4286-fd24-05f545d1b46b"
      },
      "outputs": [
        {
          "output_type": "display_data",
          "data": {
            "text/plain": [
              "<IPython.core.display.HTML object>"
            ],
            "text/html": [
              "\n",
              "     <input type=\"file\" id=\"files-7b154464-fc13-4ed0-a1d2-9cd73e294d7c\" name=\"files[]\" multiple disabled\n",
              "        style=\"border:none\" />\n",
              "     <output id=\"result-7b154464-fc13-4ed0-a1d2-9cd73e294d7c\">\n",
              "      Upload widget is only available when the cell has been executed in the\n",
              "      current browser session. Please rerun this cell to enable.\n",
              "      </output>\n",
              "      <script>// Copyright 2017 Google LLC\n",
              "//\n",
              "// Licensed under the Apache License, Version 2.0 (the \"License\");\n",
              "// you may not use this file except in compliance with the License.\n",
              "// You may obtain a copy of the License at\n",
              "//\n",
              "//      http://www.apache.org/licenses/LICENSE-2.0\n",
              "//\n",
              "// Unless required by applicable law or agreed to in writing, software\n",
              "// distributed under the License is distributed on an \"AS IS\" BASIS,\n",
              "// WITHOUT WARRANTIES OR CONDITIONS OF ANY KIND, either express or implied.\n",
              "// See the License for the specific language governing permissions and\n",
              "// limitations under the License.\n",
              "\n",
              "/**\n",
              " * @fileoverview Helpers for google.colab Python module.\n",
              " */\n",
              "(function(scope) {\n",
              "function span(text, styleAttributes = {}) {\n",
              "  const element = document.createElement('span');\n",
              "  element.textContent = text;\n",
              "  for (const key of Object.keys(styleAttributes)) {\n",
              "    element.style[key] = styleAttributes[key];\n",
              "  }\n",
              "  return element;\n",
              "}\n",
              "\n",
              "// Max number of bytes which will be uploaded at a time.\n",
              "const MAX_PAYLOAD_SIZE = 100 * 1024;\n",
              "\n",
              "function _uploadFiles(inputId, outputId) {\n",
              "  const steps = uploadFilesStep(inputId, outputId);\n",
              "  const outputElement = document.getElementById(outputId);\n",
              "  // Cache steps on the outputElement to make it available for the next call\n",
              "  // to uploadFilesContinue from Python.\n",
              "  outputElement.steps = steps;\n",
              "\n",
              "  return _uploadFilesContinue(outputId);\n",
              "}\n",
              "\n",
              "// This is roughly an async generator (not supported in the browser yet),\n",
              "// where there are multiple asynchronous steps and the Python side is going\n",
              "// to poll for completion of each step.\n",
              "// This uses a Promise to block the python side on completion of each step,\n",
              "// then passes the result of the previous step as the input to the next step.\n",
              "function _uploadFilesContinue(outputId) {\n",
              "  const outputElement = document.getElementById(outputId);\n",
              "  const steps = outputElement.steps;\n",
              "\n",
              "  const next = steps.next(outputElement.lastPromiseValue);\n",
              "  return Promise.resolve(next.value.promise).then((value) => {\n",
              "    // Cache the last promise value to make it available to the next\n",
              "    // step of the generator.\n",
              "    outputElement.lastPromiseValue = value;\n",
              "    return next.value.response;\n",
              "  });\n",
              "}\n",
              "\n",
              "/**\n",
              " * Generator function which is called between each async step of the upload\n",
              " * process.\n",
              " * @param {string} inputId Element ID of the input file picker element.\n",
              " * @param {string} outputId Element ID of the output display.\n",
              " * @return {!Iterable<!Object>} Iterable of next steps.\n",
              " */\n",
              "function* uploadFilesStep(inputId, outputId) {\n",
              "  const inputElement = document.getElementById(inputId);\n",
              "  inputElement.disabled = false;\n",
              "\n",
              "  const outputElement = document.getElementById(outputId);\n",
              "  outputElement.innerHTML = '';\n",
              "\n",
              "  const pickedPromise = new Promise((resolve) => {\n",
              "    inputElement.addEventListener('change', (e) => {\n",
              "      resolve(e.target.files);\n",
              "    });\n",
              "  });\n",
              "\n",
              "  const cancel = document.createElement('button');\n",
              "  inputElement.parentElement.appendChild(cancel);\n",
              "  cancel.textContent = 'Cancel upload';\n",
              "  const cancelPromise = new Promise((resolve) => {\n",
              "    cancel.onclick = () => {\n",
              "      resolve(null);\n",
              "    };\n",
              "  });\n",
              "\n",
              "  // Wait for the user to pick the files.\n",
              "  const files = yield {\n",
              "    promise: Promise.race([pickedPromise, cancelPromise]),\n",
              "    response: {\n",
              "      action: 'starting',\n",
              "    }\n",
              "  };\n",
              "\n",
              "  cancel.remove();\n",
              "\n",
              "  // Disable the input element since further picks are not allowed.\n",
              "  inputElement.disabled = true;\n",
              "\n",
              "  if (!files) {\n",
              "    return {\n",
              "      response: {\n",
              "        action: 'complete',\n",
              "      }\n",
              "    };\n",
              "  }\n",
              "\n",
              "  for (const file of files) {\n",
              "    const li = document.createElement('li');\n",
              "    li.append(span(file.name, {fontWeight: 'bold'}));\n",
              "    li.append(span(\n",
              "        `(${file.type || 'n/a'}) - ${file.size} bytes, ` +\n",
              "        `last modified: ${\n",
              "            file.lastModifiedDate ? file.lastModifiedDate.toLocaleDateString() :\n",
              "                                    'n/a'} - `));\n",
              "    const percent = span('0% done');\n",
              "    li.appendChild(percent);\n",
              "\n",
              "    outputElement.appendChild(li);\n",
              "\n",
              "    const fileDataPromise = new Promise((resolve) => {\n",
              "      const reader = new FileReader();\n",
              "      reader.onload = (e) => {\n",
              "        resolve(e.target.result);\n",
              "      };\n",
              "      reader.readAsArrayBuffer(file);\n",
              "    });\n",
              "    // Wait for the data to be ready.\n",
              "    let fileData = yield {\n",
              "      promise: fileDataPromise,\n",
              "      response: {\n",
              "        action: 'continue',\n",
              "      }\n",
              "    };\n",
              "\n",
              "    // Use a chunked sending to avoid message size limits. See b/62115660.\n",
              "    let position = 0;\n",
              "    do {\n",
              "      const length = Math.min(fileData.byteLength - position, MAX_PAYLOAD_SIZE);\n",
              "      const chunk = new Uint8Array(fileData, position, length);\n",
              "      position += length;\n",
              "\n",
              "      const base64 = btoa(String.fromCharCode.apply(null, chunk));\n",
              "      yield {\n",
              "        response: {\n",
              "          action: 'append',\n",
              "          file: file.name,\n",
              "          data: base64,\n",
              "        },\n",
              "      };\n",
              "\n",
              "      let percentDone = fileData.byteLength === 0 ?\n",
              "          100 :\n",
              "          Math.round((position / fileData.byteLength) * 100);\n",
              "      percent.textContent = `${percentDone}% done`;\n",
              "\n",
              "    } while (position < fileData.byteLength);\n",
              "  }\n",
              "\n",
              "  // All done.\n",
              "  yield {\n",
              "    response: {\n",
              "      action: 'complete',\n",
              "    }\n",
              "  };\n",
              "}\n",
              "\n",
              "scope.google = scope.google || {};\n",
              "scope.google.colab = scope.google.colab || {};\n",
              "scope.google.colab._files = {\n",
              "  _uploadFiles,\n",
              "  _uploadFilesContinue,\n",
              "};\n",
              "})(self);\n",
              "</script> "
            ]
          },
          "metadata": {}
        },
        {
          "output_type": "stream",
          "name": "stdout",
          "text": [
            "Saving credit_card_transactions.csv to credit_card_transactions.csv\n"
          ]
        }
      ],
      "source": [
        "# Import credit_card_transactions.csv to Google Colab\n",
        "from google.colab import files\n",
        "uploaded = files.upload()"
      ]
    },
    {
      "cell_type": "code",
      "execution_count": 3,
      "metadata": {
        "colab": {
          "base_uri": "https://localhost:8080/",
          "height": 270
        },
        "id": "Zq_IhF8BTWlu",
        "outputId": "e1efa939-f709-43b2-fdd0-56c3ff3bcad3"
      },
      "outputs": [
        {
          "output_type": "execute_result",
          "data": {
            "text/plain": [
              "   dateMonth  dateWeekday  dateQuarter  operationType     amount  \\\n",
              "0          1            1            1              4     736.76   \n",
              "1          1            1            1              2  256226.20   \n",
              "2          1            1            1              5  310027.49   \n",
              "3          1            1            1              1   76695.35   \n",
              "4          1            1            1              4    4761.57   \n",
              "\n",
              "   oldbalanceOrig  newbalanceOrig  oldbalanceDest  newbalanceDest  isFraud  \n",
              "0         1120.00          383.24            0.00            0.00        0  \n",
              "1            0.00            0.00       518041.64      1305828.01        0  \n",
              "2        61594.00            0.00        10089.00      1157398.83        0  \n",
              "3      9064440.33      9141135.68       880045.33       206147.08        0  \n",
              "4            0.00            0.00            0.00            0.00        0  "
            ],
            "text/html": [
              "\n",
              "  <div id=\"df-b932b3f6-30e9-4fcc-9aca-7d57c3a2bb8f\">\n",
              "    <div class=\"colab-df-container\">\n",
              "      <div>\n",
              "<style scoped>\n",
              "    .dataframe tbody tr th:only-of-type {\n",
              "        vertical-align: middle;\n",
              "    }\n",
              "\n",
              "    .dataframe tbody tr th {\n",
              "        vertical-align: top;\n",
              "    }\n",
              "\n",
              "    .dataframe thead th {\n",
              "        text-align: right;\n",
              "    }\n",
              "</style>\n",
              "<table border=\"1\" class=\"dataframe\">\n",
              "  <thead>\n",
              "    <tr style=\"text-align: right;\">\n",
              "      <th></th>\n",
              "      <th>dateMonth</th>\n",
              "      <th>dateWeekday</th>\n",
              "      <th>dateQuarter</th>\n",
              "      <th>operationType</th>\n",
              "      <th>amount</th>\n",
              "      <th>oldbalanceOrig</th>\n",
              "      <th>newbalanceOrig</th>\n",
              "      <th>oldbalanceDest</th>\n",
              "      <th>newbalanceDest</th>\n",
              "      <th>isFraud</th>\n",
              "    </tr>\n",
              "  </thead>\n",
              "  <tbody>\n",
              "    <tr>\n",
              "      <th>0</th>\n",
              "      <td>1</td>\n",
              "      <td>1</td>\n",
              "      <td>1</td>\n",
              "      <td>4</td>\n",
              "      <td>736.76</td>\n",
              "      <td>1120.00</td>\n",
              "      <td>383.24</td>\n",
              "      <td>0.00</td>\n",
              "      <td>0.00</td>\n",
              "      <td>0</td>\n",
              "    </tr>\n",
              "    <tr>\n",
              "      <th>1</th>\n",
              "      <td>1</td>\n",
              "      <td>1</td>\n",
              "      <td>1</td>\n",
              "      <td>2</td>\n",
              "      <td>256226.20</td>\n",
              "      <td>0.00</td>\n",
              "      <td>0.00</td>\n",
              "      <td>518041.64</td>\n",
              "      <td>1305828.01</td>\n",
              "      <td>0</td>\n",
              "    </tr>\n",
              "    <tr>\n",
              "      <th>2</th>\n",
              "      <td>1</td>\n",
              "      <td>1</td>\n",
              "      <td>1</td>\n",
              "      <td>5</td>\n",
              "      <td>310027.49</td>\n",
              "      <td>61594.00</td>\n",
              "      <td>0.00</td>\n",
              "      <td>10089.00</td>\n",
              "      <td>1157398.83</td>\n",
              "      <td>0</td>\n",
              "    </tr>\n",
              "    <tr>\n",
              "      <th>3</th>\n",
              "      <td>1</td>\n",
              "      <td>1</td>\n",
              "      <td>1</td>\n",
              "      <td>1</td>\n",
              "      <td>76695.35</td>\n",
              "      <td>9064440.33</td>\n",
              "      <td>9141135.68</td>\n",
              "      <td>880045.33</td>\n",
              "      <td>206147.08</td>\n",
              "      <td>0</td>\n",
              "    </tr>\n",
              "    <tr>\n",
              "      <th>4</th>\n",
              "      <td>1</td>\n",
              "      <td>1</td>\n",
              "      <td>1</td>\n",
              "      <td>4</td>\n",
              "      <td>4761.57</td>\n",
              "      <td>0.00</td>\n",
              "      <td>0.00</td>\n",
              "      <td>0.00</td>\n",
              "      <td>0.00</td>\n",
              "      <td>0</td>\n",
              "    </tr>\n",
              "  </tbody>\n",
              "</table>\n",
              "</div>\n",
              "      <button class=\"colab-df-convert\" onclick=\"convertToInteractive('df-b932b3f6-30e9-4fcc-9aca-7d57c3a2bb8f')\"\n",
              "              title=\"Convert this dataframe to an interactive table.\"\n",
              "              style=\"display:none;\">\n",
              "        \n",
              "  <svg xmlns=\"http://www.w3.org/2000/svg\" height=\"24px\"viewBox=\"0 0 24 24\"\n",
              "       width=\"24px\">\n",
              "    <path d=\"M0 0h24v24H0V0z\" fill=\"none\"/>\n",
              "    <path d=\"M18.56 5.44l.94 2.06.94-2.06 2.06-.94-2.06-.94-.94-2.06-.94 2.06-2.06.94zm-11 1L8.5 8.5l.94-2.06 2.06-.94-2.06-.94L8.5 2.5l-.94 2.06-2.06.94zm10 10l.94 2.06.94-2.06 2.06-.94-2.06-.94-.94-2.06-.94 2.06-2.06.94z\"/><path d=\"M17.41 7.96l-1.37-1.37c-.4-.4-.92-.59-1.43-.59-.52 0-1.04.2-1.43.59L10.3 9.45l-7.72 7.72c-.78.78-.78 2.05 0 2.83L4 21.41c.39.39.9.59 1.41.59.51 0 1.02-.2 1.41-.59l7.78-7.78 2.81-2.81c.8-.78.8-2.07 0-2.86zM5.41 20L4 18.59l7.72-7.72 1.47 1.35L5.41 20z\"/>\n",
              "  </svg>\n",
              "      </button>\n",
              "      \n",
              "  <style>\n",
              "    .colab-df-container {\n",
              "      display:flex;\n",
              "      flex-wrap:wrap;\n",
              "      gap: 12px;\n",
              "    }\n",
              "\n",
              "    .colab-df-convert {\n",
              "      background-color: #E8F0FE;\n",
              "      border: none;\n",
              "      border-radius: 50%;\n",
              "      cursor: pointer;\n",
              "      display: none;\n",
              "      fill: #1967D2;\n",
              "      height: 32px;\n",
              "      padding: 0 0 0 0;\n",
              "      width: 32px;\n",
              "    }\n",
              "\n",
              "    .colab-df-convert:hover {\n",
              "      background-color: #E2EBFA;\n",
              "      box-shadow: 0px 1px 2px rgba(60, 64, 67, 0.3), 0px 1px 3px 1px rgba(60, 64, 67, 0.15);\n",
              "      fill: #174EA6;\n",
              "    }\n",
              "\n",
              "    [theme=dark] .colab-df-convert {\n",
              "      background-color: #3B4455;\n",
              "      fill: #D2E3FC;\n",
              "    }\n",
              "\n",
              "    [theme=dark] .colab-df-convert:hover {\n",
              "      background-color: #434B5C;\n",
              "      box-shadow: 0px 1px 3px 1px rgba(0, 0, 0, 0.15);\n",
              "      filter: drop-shadow(0px 1px 2px rgba(0, 0, 0, 0.3));\n",
              "      fill: #FFFFFF;\n",
              "    }\n",
              "  </style>\n",
              "\n",
              "      <script>\n",
              "        const buttonEl =\n",
              "          document.querySelector('#df-b932b3f6-30e9-4fcc-9aca-7d57c3a2bb8f button.colab-df-convert');\n",
              "        buttonEl.style.display =\n",
              "          google.colab.kernel.accessAllowed ? 'block' : 'none';\n",
              "\n",
              "        async function convertToInteractive(key) {\n",
              "          const element = document.querySelector('#df-b932b3f6-30e9-4fcc-9aca-7d57c3a2bb8f');\n",
              "          const dataTable =\n",
              "            await google.colab.kernel.invokeFunction('convertToInteractive',\n",
              "                                                     [key], {});\n",
              "          if (!dataTable) return;\n",
              "\n",
              "          const docLinkHtml = 'Like what you see? Visit the ' +\n",
              "            '<a target=\"_blank\" href=https://colab.research.google.com/notebooks/data_table.ipynb>data table notebook</a>'\n",
              "            + ' to learn more about interactive tables.';\n",
              "          element.innerHTML = '';\n",
              "          dataTable['output_type'] = 'display_data';\n",
              "          await google.colab.output.renderOutput(dataTable, element);\n",
              "          const docLink = document.createElement('div');\n",
              "          docLink.innerHTML = docLinkHtml;\n",
              "          element.appendChild(docLink);\n",
              "        }\n",
              "      </script>\n",
              "    </div>\n",
              "  </div>\n",
              "  "
            ]
          },
          "metadata": {},
          "execution_count": 3
        }
      ],
      "source": [
        "# Read the credit_card_transactions.csv file from the Resources folder into a Pandas DataFrame\n",
        "data = \"credit_card_transactions.csv\"\n",
        "cc_transactions_df = pd.read_csv(data)\n",
        "cc_transactions_df.head()\n",
        "\n",
        "# Review the DataFrame\n",
        "cc_transactions_df.head()\n"
      ]
    },
    {
      "cell_type": "code",
      "source": [
        "cc_transactions_df.isFraud.sum()"
      ],
      "metadata": {
        "colab": {
          "base_uri": "https://localhost:8080/"
        },
        "id": "Y5gWy8Qhb0GO",
        "outputId": "e54ce853-6ac8-40e6-e898-b1b33c6944a0"
      },
      "execution_count": 24,
      "outputs": [
        {
          "output_type": "execute_result",
          "data": {
            "text/plain": [
              "116"
            ]
          },
          "metadata": {},
          "execution_count": 24
        }
      ]
    },
    {
      "cell_type": "code",
      "source": [
        "cc_transactions_df.shape"
      ],
      "metadata": {
        "colab": {
          "base_uri": "https://localhost:8080/"
        },
        "id": "niaD4XJ7cOtW",
        "outputId": "2fe9c88c-114f-49a5-c3bb-2d95d330a2e2"
      },
      "execution_count": 26,
      "outputs": [
        {
          "output_type": "execute_result",
          "data": {
            "text/plain": [
              "(100000, 10)"
            ]
          },
          "metadata": {},
          "execution_count": 26
        }
      ]
    },
    {
      "cell_type": "markdown",
      "metadata": {
        "id": "1YN5mWObTWlv"
      },
      "source": [
        "### Step 2: Create the target set `y` by assigning the values of the “isFraud” column of the DataFrame."
      ]
    },
    {
      "cell_type": "code",
      "execution_count": 5,
      "metadata": {
        "colab": {
          "base_uri": "https://localhost:8080/"
        },
        "id": "0I-EOjivTWlv",
        "outputId": "12a4385b-a8aa-4195-d59a-23e2cb410944"
      },
      "outputs": [
        {
          "output_type": "execute_result",
          "data": {
            "text/plain": [
              "0    0\n",
              "1    0\n",
              "2    0\n",
              "3    0\n",
              "4    0\n",
              "Name: isFraud, dtype: int64"
            ]
          },
          "metadata": {},
          "execution_count": 5
        }
      ],
      "source": [
        "# Define the target set by selecting the isFraud column\n",
        "y = cc_transactions_df['isFraud']\n",
        "\n",
        "# Display a sample of y\n",
        "y.head()\n"
      ]
    },
    {
      "cell_type": "markdown",
      "metadata": {
        "id": "p8A2BOemTWlw"
      },
      "source": [
        "### Step 3: Define the features set `X` by including all of the columns of the DataFrame except for the “isFraud” column."
      ]
    },
    {
      "cell_type": "code",
      "execution_count": 6,
      "metadata": {
        "colab": {
          "base_uri": "https://localhost:8080/",
          "height": 270
        },
        "id": "7RJUt1_3TWlw",
        "outputId": "7e34f9f0-4194-441c-f41e-0f62b2c13d0b"
      },
      "outputs": [
        {
          "output_type": "execute_result",
          "data": {
            "text/plain": [
              "   dateMonth  dateWeekday  dateQuarter  operationType     amount  \\\n",
              "0          1            1            1              4     736.76   \n",
              "1          1            1            1              2  256226.20   \n",
              "2          1            1            1              5  310027.49   \n",
              "3          1            1            1              1   76695.35   \n",
              "4          1            1            1              4    4761.57   \n",
              "\n",
              "   oldbalanceOrig  newbalanceOrig  oldbalanceDest  newbalanceDest  \n",
              "0         1120.00          383.24            0.00            0.00  \n",
              "1            0.00            0.00       518041.64      1305828.01  \n",
              "2        61594.00            0.00        10089.00      1157398.83  \n",
              "3      9064440.33      9141135.68       880045.33       206147.08  \n",
              "4            0.00            0.00            0.00            0.00  "
            ],
            "text/html": [
              "\n",
              "  <div id=\"df-85f37035-7044-4b22-b586-1c5708bdce37\">\n",
              "    <div class=\"colab-df-container\">\n",
              "      <div>\n",
              "<style scoped>\n",
              "    .dataframe tbody tr th:only-of-type {\n",
              "        vertical-align: middle;\n",
              "    }\n",
              "\n",
              "    .dataframe tbody tr th {\n",
              "        vertical-align: top;\n",
              "    }\n",
              "\n",
              "    .dataframe thead th {\n",
              "        text-align: right;\n",
              "    }\n",
              "</style>\n",
              "<table border=\"1\" class=\"dataframe\">\n",
              "  <thead>\n",
              "    <tr style=\"text-align: right;\">\n",
              "      <th></th>\n",
              "      <th>dateMonth</th>\n",
              "      <th>dateWeekday</th>\n",
              "      <th>dateQuarter</th>\n",
              "      <th>operationType</th>\n",
              "      <th>amount</th>\n",
              "      <th>oldbalanceOrig</th>\n",
              "      <th>newbalanceOrig</th>\n",
              "      <th>oldbalanceDest</th>\n",
              "      <th>newbalanceDest</th>\n",
              "    </tr>\n",
              "  </thead>\n",
              "  <tbody>\n",
              "    <tr>\n",
              "      <th>0</th>\n",
              "      <td>1</td>\n",
              "      <td>1</td>\n",
              "      <td>1</td>\n",
              "      <td>4</td>\n",
              "      <td>736.76</td>\n",
              "      <td>1120.00</td>\n",
              "      <td>383.24</td>\n",
              "      <td>0.00</td>\n",
              "      <td>0.00</td>\n",
              "    </tr>\n",
              "    <tr>\n",
              "      <th>1</th>\n",
              "      <td>1</td>\n",
              "      <td>1</td>\n",
              "      <td>1</td>\n",
              "      <td>2</td>\n",
              "      <td>256226.20</td>\n",
              "      <td>0.00</td>\n",
              "      <td>0.00</td>\n",
              "      <td>518041.64</td>\n",
              "      <td>1305828.01</td>\n",
              "    </tr>\n",
              "    <tr>\n",
              "      <th>2</th>\n",
              "      <td>1</td>\n",
              "      <td>1</td>\n",
              "      <td>1</td>\n",
              "      <td>5</td>\n",
              "      <td>310027.49</td>\n",
              "      <td>61594.00</td>\n",
              "      <td>0.00</td>\n",
              "      <td>10089.00</td>\n",
              "      <td>1157398.83</td>\n",
              "    </tr>\n",
              "    <tr>\n",
              "      <th>3</th>\n",
              "      <td>1</td>\n",
              "      <td>1</td>\n",
              "      <td>1</td>\n",
              "      <td>1</td>\n",
              "      <td>76695.35</td>\n",
              "      <td>9064440.33</td>\n",
              "      <td>9141135.68</td>\n",
              "      <td>880045.33</td>\n",
              "      <td>206147.08</td>\n",
              "    </tr>\n",
              "    <tr>\n",
              "      <th>4</th>\n",
              "      <td>1</td>\n",
              "      <td>1</td>\n",
              "      <td>1</td>\n",
              "      <td>4</td>\n",
              "      <td>4761.57</td>\n",
              "      <td>0.00</td>\n",
              "      <td>0.00</td>\n",
              "      <td>0.00</td>\n",
              "      <td>0.00</td>\n",
              "    </tr>\n",
              "  </tbody>\n",
              "</table>\n",
              "</div>\n",
              "      <button class=\"colab-df-convert\" onclick=\"convertToInteractive('df-85f37035-7044-4b22-b586-1c5708bdce37')\"\n",
              "              title=\"Convert this dataframe to an interactive table.\"\n",
              "              style=\"display:none;\">\n",
              "        \n",
              "  <svg xmlns=\"http://www.w3.org/2000/svg\" height=\"24px\"viewBox=\"0 0 24 24\"\n",
              "       width=\"24px\">\n",
              "    <path d=\"M0 0h24v24H0V0z\" fill=\"none\"/>\n",
              "    <path d=\"M18.56 5.44l.94 2.06.94-2.06 2.06-.94-2.06-.94-.94-2.06-.94 2.06-2.06.94zm-11 1L8.5 8.5l.94-2.06 2.06-.94-2.06-.94L8.5 2.5l-.94 2.06-2.06.94zm10 10l.94 2.06.94-2.06 2.06-.94-2.06-.94-.94-2.06-.94 2.06-2.06.94z\"/><path d=\"M17.41 7.96l-1.37-1.37c-.4-.4-.92-.59-1.43-.59-.52 0-1.04.2-1.43.59L10.3 9.45l-7.72 7.72c-.78.78-.78 2.05 0 2.83L4 21.41c.39.39.9.59 1.41.59.51 0 1.02-.2 1.41-.59l7.78-7.78 2.81-2.81c.8-.78.8-2.07 0-2.86zM5.41 20L4 18.59l7.72-7.72 1.47 1.35L5.41 20z\"/>\n",
              "  </svg>\n",
              "      </button>\n",
              "      \n",
              "  <style>\n",
              "    .colab-df-container {\n",
              "      display:flex;\n",
              "      flex-wrap:wrap;\n",
              "      gap: 12px;\n",
              "    }\n",
              "\n",
              "    .colab-df-convert {\n",
              "      background-color: #E8F0FE;\n",
              "      border: none;\n",
              "      border-radius: 50%;\n",
              "      cursor: pointer;\n",
              "      display: none;\n",
              "      fill: #1967D2;\n",
              "      height: 32px;\n",
              "      padding: 0 0 0 0;\n",
              "      width: 32px;\n",
              "    }\n",
              "\n",
              "    .colab-df-convert:hover {\n",
              "      background-color: #E2EBFA;\n",
              "      box-shadow: 0px 1px 2px rgba(60, 64, 67, 0.3), 0px 1px 3px 1px rgba(60, 64, 67, 0.15);\n",
              "      fill: #174EA6;\n",
              "    }\n",
              "\n",
              "    [theme=dark] .colab-df-convert {\n",
              "      background-color: #3B4455;\n",
              "      fill: #D2E3FC;\n",
              "    }\n",
              "\n",
              "    [theme=dark] .colab-df-convert:hover {\n",
              "      background-color: #434B5C;\n",
              "      box-shadow: 0px 1px 3px 1px rgba(0, 0, 0, 0.15);\n",
              "      filter: drop-shadow(0px 1px 2px rgba(0, 0, 0, 0.3));\n",
              "      fill: #FFFFFF;\n",
              "    }\n",
              "  </style>\n",
              "\n",
              "      <script>\n",
              "        const buttonEl =\n",
              "          document.querySelector('#df-85f37035-7044-4b22-b586-1c5708bdce37 button.colab-df-convert');\n",
              "        buttonEl.style.display =\n",
              "          google.colab.kernel.accessAllowed ? 'block' : 'none';\n",
              "\n",
              "        async function convertToInteractive(key) {\n",
              "          const element = document.querySelector('#df-85f37035-7044-4b22-b586-1c5708bdce37');\n",
              "          const dataTable =\n",
              "            await google.colab.kernel.invokeFunction('convertToInteractive',\n",
              "                                                     [key], {});\n",
              "          if (!dataTable) return;\n",
              "\n",
              "          const docLinkHtml = 'Like what you see? Visit the ' +\n",
              "            '<a target=\"_blank\" href=https://colab.research.google.com/notebooks/data_table.ipynb>data table notebook</a>'\n",
              "            + ' to learn more about interactive tables.';\n",
              "          element.innerHTML = '';\n",
              "          dataTable['output_type'] = 'display_data';\n",
              "          await google.colab.output.renderOutput(dataTable, element);\n",
              "          const docLink = document.createElement('div');\n",
              "          docLink.innerHTML = docLinkHtml;\n",
              "          element.appendChild(docLink);\n",
              "        }\n",
              "      </script>\n",
              "    </div>\n",
              "  </div>\n",
              "  "
            ]
          },
          "metadata": {},
          "execution_count": 6
        }
      ],
      "source": [
        "# Define features set X by selecting all columns but the isFraud\n",
        "X = cc_transactions_df.drop(columns='isFraud')\n",
        "\n",
        "# Display the features DataFrame\n",
        "X.head()\n"
      ]
    },
    {
      "cell_type": "markdown",
      "metadata": {
        "id": "nxy5GCGbTWlx"
      },
      "source": [
        "### Step 4: Create the training and testing sets using the `train_test_split` function from scikit-learn."
      ]
    },
    {
      "cell_type": "code",
      "execution_count": 7,
      "metadata": {
        "id": "LgVdoiDHTWlx"
      },
      "outputs": [],
      "source": [
        "# Create training and testing datasets using train_teat_split\n",
        "# Assign the function a random_state equal to 1\n",
        "X_train, X_test, y_train, y_test = train_test_split(X,y, random_state=1)\n"
      ]
    },
    {
      "cell_type": "markdown",
      "metadata": {
        "id": "rNAENYWMTWlx"
      },
      "source": [
        "### Step 5:  Scale the features data using the `StandardScaler` from scikit-learn."
      ]
    },
    {
      "cell_type": "code",
      "execution_count": 8,
      "metadata": {
        "id": "tZeZpxO_TWlx"
      },
      "outputs": [],
      "source": [
        "# Create the StandardScaler instance\n",
        "X_scaler = StandardScaler()\n"
      ]
    },
    {
      "cell_type": "code",
      "execution_count": 9,
      "metadata": {
        "colab": {
          "base_uri": "https://localhost:8080/"
        },
        "id": "v2uX7rUATWlx",
        "outputId": "e3d798d9-2085-4155-92b4-b4e1af3b83b2"
      },
      "outputs": [
        {
          "output_type": "execute_result",
          "data": {
            "text/plain": [
              "StandardScaler()"
            ]
          },
          "metadata": {},
          "execution_count": 9
        }
      ],
      "source": [
        "# Fit the scaler to the features training dataset\n",
        "X_scaler.fit(X_train)\n"
      ]
    },
    {
      "cell_type": "code",
      "execution_count": 10,
      "metadata": {
        "id": "6Ad1Z9KXTWly"
      },
      "outputs": [],
      "source": [
        "# Scale both the training and testing data from the features dataset\n",
        "X_train_scaled = X_scaler.transform(X_train)\n",
        "X_test_scaled = X_scaler.transform(X_test)\n"
      ]
    },
    {
      "cell_type": "markdown",
      "metadata": {
        "id": "TZ15clqjTWly"
      },
      "source": [
        "---\n",
        "\n",
        "## Create and Evaluate a Deep Neural Network Model"
      ]
    },
    {
      "cell_type": "markdown",
      "metadata": {
        "id": "xwNbt-AcTWly"
      },
      "source": [
        "### Step 1: Create a deep neural network model with the following structure:\n",
        "\n",
        "    * 9 inputs\n",
        "    * First hidden layer with 18 neurons\n",
        "    * Second hidden layer with 8 neurons\n",
        "    * Output layer with a single output\n",
        "    * Hidden layers use the ReLU activation function, and output layer uses the sigmoid activation function\n"
      ]
    },
    {
      "cell_type": "code",
      "execution_count": 12,
      "metadata": {
        "id": "CinTlmXvTWly"
      },
      "outputs": [],
      "source": [
        "# Define the the number of inputs to the model\n",
        "number_inputs = 9\n",
        "\n",
        "# Define the number of hidden nodes for the first hidden layer\n",
        "hidden_nodes_layer1 = 18\n",
        "\n",
        "# Define the number of hidden nodes for the second hidden layer\n",
        "hidden_nodes_layer2 = 8\n",
        "\n",
        "# Create the Sequential model instance\n",
        "nn = Sequential()\n",
        "\n",
        "# Add the first Dense layer specifying the number of inputs, the number of hidden nodes, and the activation function\n",
        "nn.add(\n",
        "    Dense(units=hidden_nodes_layer1, input_dim = number_inputs, activation='relu')\n",
        ")\n",
        "\n",
        "# Add the second Dense layer specifying the number of hidden nodes and the activation function\n",
        "nn.add(\n",
        "    Dense(units=hidden_nodes_layer2, input_dim = number_inputs, activation='relu')\n",
        ")\n",
        "\n",
        "# Add the output layer to the model specifying the number of output neurons and activation function\n",
        "nn.add(\n",
        "    Dense(units=1, activation='sigmoid')\n",
        ")\n"
      ]
    },
    {
      "cell_type": "markdown",
      "metadata": {
        "id": "4IJ5q6GBTWlz"
      },
      "source": [
        "### Step 2. Display the model structure using the `summary` function."
      ]
    },
    {
      "cell_type": "code",
      "execution_count": 13,
      "metadata": {
        "colab": {
          "base_uri": "https://localhost:8080/"
        },
        "id": "ap-Ih_EaTWlz",
        "outputId": "2d5400c0-abd1-411d-9144-b6bd4e18700c"
      },
      "outputs": [
        {
          "output_type": "stream",
          "name": "stdout",
          "text": [
            "Model: \"sequential_1\"\n",
            "_________________________________________________________________\n",
            " Layer (type)                Output Shape              Param #   \n",
            "=================================================================\n",
            " dense (Dense)               (None, 18)                180       \n",
            "                                                                 \n",
            " dense_1 (Dense)             (None, 8)                 152       \n",
            "                                                                 \n",
            " dense_2 (Dense)             (None, 1)                 9         \n",
            "                                                                 \n",
            "=================================================================\n",
            "Total params: 341\n",
            "Trainable params: 341\n",
            "Non-trainable params: 0\n",
            "_________________________________________________________________\n"
          ]
        }
      ],
      "source": [
        "# Display the Sequential model summary\n",
        "nn.summary()\n"
      ]
    },
    {
      "cell_type": "markdown",
      "metadata": {
        "id": "ykf51PxLTWlz"
      },
      "source": [
        "### Step 3: Compile the neural network model using the `binary_crossentropy` loss function, the `adam` optimizer, and `accuracy` as an additional metric."
      ]
    },
    {
      "cell_type": "code",
      "execution_count": 14,
      "metadata": {
        "id": "xAzI7T0_TWlz"
      },
      "outputs": [],
      "source": [
        "# Compile the Sequential model\n",
        "nn.compile(loss='binary_crossentropy', optimizer='adam', metrics=['accuracy'])\n"
      ]
    },
    {
      "cell_type": "markdown",
      "metadata": {
        "id": "Ul-c23qXTWlz"
      },
      "source": [
        "### Step 4: Fit the model with the training data, using 100 epochs."
      ]
    },
    {
      "cell_type": "code",
      "execution_count": 16,
      "metadata": {
        "colab": {
          "base_uri": "https://localhost:8080/"
        },
        "id": "VbQ_CI16TWlz",
        "outputId": "de5598a1-68cc-4d4d-eca8-5e51dae55c58"
      },
      "outputs": [
        {
          "output_type": "stream",
          "name": "stdout",
          "text": [
            "Epoch 1/100\n",
            "1641/1641 [==============================] - 5s 3ms/step - loss: 0.0096 - accuracy: 0.9988 - val_loss: 0.0092 - val_accuracy: 0.9987\n",
            "Epoch 2/100\n",
            "1641/1641 [==============================] - 5s 3ms/step - loss: 0.0093 - accuracy: 0.9988 - val_loss: 0.4542 - val_accuracy: 0.9968\n",
            "Epoch 3/100\n",
            "1641/1641 [==============================] - 5s 3ms/step - loss: 0.0093 - accuracy: 0.9988 - val_loss: 6.2546 - val_accuracy: 0.9987\n",
            "Epoch 4/100\n",
            "1641/1641 [==============================] - 5s 3ms/step - loss: 0.0092 - accuracy: 0.9988 - val_loss: 22.5438 - val_accuracy: 0.9424\n",
            "Epoch 5/100\n",
            "1641/1641 [==============================] - 5s 3ms/step - loss: 0.0091 - accuracy: 0.9988 - val_loss: 51.2694 - val_accuracy: 0.9987\n",
            "Epoch 6/100\n",
            "1641/1641 [==============================] - 5s 3ms/step - loss: 0.0091 - accuracy: 0.9988 - val_loss: 54.5725 - val_accuracy: 0.9987\n",
            "Epoch 7/100\n",
            "1641/1641 [==============================] - 5s 3ms/step - loss: 0.0090 - accuracy: 0.9988 - val_loss: 69.3341 - val_accuracy: 0.9987\n",
            "Epoch 8/100\n",
            "1641/1641 [==============================] - 5s 3ms/step - loss: 0.0090 - accuracy: 0.9988 - val_loss: 76.2240 - val_accuracy: 0.9987\n",
            "Epoch 9/100\n",
            "1641/1641 [==============================] - 5s 3ms/step - loss: 0.0092 - accuracy: 0.9988 - val_loss: 124.6512 - val_accuracy: 0.9987\n",
            "Epoch 10/100\n",
            "1641/1641 [==============================] - 5s 3ms/step - loss: 0.0089 - accuracy: 0.9988 - val_loss: 196.7602 - val_accuracy: 0.9987\n",
            "Epoch 11/100\n",
            "1641/1641 [==============================] - 5s 3ms/step - loss: 0.0089 - accuracy: 0.9988 - val_loss: 314.2284 - val_accuracy: 0.9987\n",
            "Epoch 12/100\n",
            "1641/1641 [==============================] - 5s 3ms/step - loss: 0.0096 - accuracy: 0.9988 - val_loss: 405.6126 - val_accuracy: 0.9987\n",
            "Epoch 13/100\n",
            "1641/1641 [==============================] - 5s 3ms/step - loss: 0.0089 - accuracy: 0.9988 - val_loss: 388.4095 - val_accuracy: 0.9987\n",
            "Epoch 14/100\n",
            "1641/1641 [==============================] - 5s 3ms/step - loss: 0.0089 - accuracy: 0.9988 - val_loss: 364.6625 - val_accuracy: 0.9987\n",
            "Epoch 15/100\n",
            "1641/1641 [==============================] - 5s 3ms/step - loss: 0.0089 - accuracy: 0.9988 - val_loss: 418.8418 - val_accuracy: 0.9987\n",
            "Epoch 16/100\n",
            "1641/1641 [==============================] - 5s 3ms/step - loss: 0.0088 - accuracy: 0.9988 - val_loss: 450.9993 - val_accuracy: 0.9987\n",
            "Epoch 17/100\n",
            "1641/1641 [==============================] - 5s 3ms/step - loss: 0.0088 - accuracy: 0.9988 - val_loss: 566.0877 - val_accuracy: 0.9987\n",
            "Epoch 18/100\n",
            "1641/1641 [==============================] - 5s 3ms/step - loss: 0.0088 - accuracy: 0.9988 - val_loss: 563.6609 - val_accuracy: 0.9987\n",
            "Epoch 19/100\n",
            "1641/1641 [==============================] - 5s 3ms/step - loss: 0.0087 - accuracy: 0.9988 - val_loss: 589.7203 - val_accuracy: 0.9987\n",
            "Epoch 20/100\n",
            "1641/1641 [==============================] - 7s 4ms/step - loss: 0.0096 - accuracy: 0.9988 - val_loss: 989.4175 - val_accuracy: 0.9987\n",
            "Epoch 21/100\n",
            "1641/1641 [==============================] - 5s 3ms/step - loss: 0.0088 - accuracy: 0.9988 - val_loss: 1001.9043 - val_accuracy: 0.9987\n",
            "Epoch 22/100\n",
            "1641/1641 [==============================] - 5s 3ms/step - loss: 0.0087 - accuracy: 0.9988 - val_loss: 1014.6483 - val_accuracy: 0.9987\n",
            "Epoch 23/100\n",
            "1641/1641 [==============================] - 5s 3ms/step - loss: 0.0089 - accuracy: 0.9988 - val_loss: 1056.9940 - val_accuracy: 0.9987\n",
            "Epoch 24/100\n",
            "1641/1641 [==============================] - 5s 3ms/step - loss: 0.0087 - accuracy: 0.9988 - val_loss: 1111.2958 - val_accuracy: 0.9987\n",
            "Epoch 25/100\n",
            "1641/1641 [==============================] - 5s 3ms/step - loss: 0.0086 - accuracy: 0.9988 - val_loss: 1152.5917 - val_accuracy: 0.9987\n",
            "Epoch 26/100\n",
            "1641/1641 [==============================] - 5s 3ms/step - loss: 0.0085 - accuracy: 0.9988 - val_loss: 1120.1460 - val_accuracy: 0.9987\n",
            "Epoch 27/100\n",
            "1641/1641 [==============================] - 5s 3ms/step - loss: 0.0085 - accuracy: 0.9988 - val_loss: 1217.0052 - val_accuracy: 0.9987\n",
            "Epoch 28/100\n",
            "1641/1641 [==============================] - 5s 3ms/step - loss: 0.0085 - accuracy: 0.9988 - val_loss: 1185.0760 - val_accuracy: 0.9987\n",
            "Epoch 29/100\n",
            "1641/1641 [==============================] - 4s 3ms/step - loss: 0.0084 - accuracy: 0.9988 - val_loss: 1262.9137 - val_accuracy: 0.9987\n",
            "Epoch 30/100\n",
            "1641/1641 [==============================] - 4s 3ms/step - loss: 0.0084 - accuracy: 0.9988 - val_loss: 1247.2037 - val_accuracy: 0.9987\n",
            "Epoch 31/100\n",
            "1641/1641 [==============================] - 5s 3ms/step - loss: 0.0084 - accuracy: 0.9988 - val_loss: 1134.2163 - val_accuracy: 0.9987\n",
            "Epoch 32/100\n",
            "1641/1641 [==============================] - 5s 3ms/step - loss: 0.0084 - accuracy: 0.9988 - val_loss: 1088.2947 - val_accuracy: 0.9987\n",
            "Epoch 33/100\n",
            "1641/1641 [==============================] - 5s 3ms/step - loss: 0.0085 - accuracy: 0.9988 - val_loss: 1088.0399 - val_accuracy: 0.9987\n",
            "Epoch 34/100\n",
            "1641/1641 [==============================] - 5s 3ms/step - loss: 0.0084 - accuracy: 0.9988 - val_loss: 1043.9746 - val_accuracy: 0.9987\n",
            "Epoch 35/100\n",
            "1641/1641 [==============================] - 5s 3ms/step - loss: 0.0083 - accuracy: 0.9988 - val_loss: 1021.9020 - val_accuracy: 0.9987\n",
            "Epoch 36/100\n",
            "1641/1641 [==============================] - 5s 3ms/step - loss: 0.0083 - accuracy: 0.9988 - val_loss: 1010.4436 - val_accuracy: 0.9987\n",
            "Epoch 37/100\n",
            "1641/1641 [==============================] - 5s 3ms/step - loss: 0.0082 - accuracy: 0.9988 - val_loss: 1023.4254 - val_accuracy: 0.9987\n",
            "Epoch 38/100\n",
            "1641/1641 [==============================] - 5s 3ms/step - loss: 0.0082 - accuracy: 0.9988 - val_loss: 971.3885 - val_accuracy: 0.9987\n",
            "Epoch 39/100\n",
            "1641/1641 [==============================] - 5s 3ms/step - loss: 0.0082 - accuracy: 0.9988 - val_loss: 1006.3560 - val_accuracy: 0.9987\n",
            "Epoch 40/100\n",
            "1641/1641 [==============================] - 5s 3ms/step - loss: 0.0081 - accuracy: 0.9988 - val_loss: 1031.2314 - val_accuracy: 0.9987\n",
            "Epoch 41/100\n",
            "1641/1641 [==============================] - 5s 3ms/step - loss: 0.0081 - accuracy: 0.9988 - val_loss: 1024.4104 - val_accuracy: 0.9987\n",
            "Epoch 42/100\n",
            "1641/1641 [==============================] - 5s 3ms/step - loss: 0.0081 - accuracy: 0.9988 - val_loss: 1128.1237 - val_accuracy: 0.9987\n",
            "Epoch 43/100\n",
            "1641/1641 [==============================] - 5s 3ms/step - loss: 0.0080 - accuracy: 0.9988 - val_loss: 1078.4209 - val_accuracy: 0.9987\n",
            "Epoch 44/100\n",
            "1641/1641 [==============================] - 5s 3ms/step - loss: 0.0080 - accuracy: 0.9988 - val_loss: 1058.0562 - val_accuracy: 0.9987\n",
            "Epoch 45/100\n",
            "1641/1641 [==============================] - 5s 3ms/step - loss: 0.0079 - accuracy: 0.9988 - val_loss: 1101.7628 - val_accuracy: 0.9987\n",
            "Epoch 46/100\n",
            "1641/1641 [==============================] - 5s 3ms/step - loss: 0.0080 - accuracy: 0.9988 - val_loss: 1046.2832 - val_accuracy: 0.9987\n",
            "Epoch 47/100\n",
            "1641/1641 [==============================] - 5s 3ms/step - loss: 0.0078 - accuracy: 0.9988 - val_loss: 1023.0181 - val_accuracy: 0.9987\n",
            "Epoch 48/100\n",
            "1641/1641 [==============================] - 5s 3ms/step - loss: 0.0079 - accuracy: 0.9988 - val_loss: 1083.1763 - val_accuracy: 0.9987\n",
            "Epoch 49/100\n",
            "1641/1641 [==============================] - 5s 3ms/step - loss: 0.0082 - accuracy: 0.9988 - val_loss: 995.5424 - val_accuracy: 0.9987\n",
            "Epoch 50/100\n",
            "1641/1641 [==============================] - 5s 3ms/step - loss: 0.0078 - accuracy: 0.9988 - val_loss: 904.5142 - val_accuracy: 0.9987\n",
            "Epoch 51/100\n",
            "1641/1641 [==============================] - 6s 4ms/step - loss: 0.0076 - accuracy: 0.9988 - val_loss: 937.4627 - val_accuracy: 0.9987\n",
            "Epoch 52/100\n",
            "1641/1641 [==============================] - 6s 4ms/step - loss: 0.0078 - accuracy: 0.9988 - val_loss: 850.8424 - val_accuracy: 0.9987\n",
            "Epoch 53/100\n",
            "1641/1641 [==============================] - 6s 4ms/step - loss: 0.0077 - accuracy: 0.9988 - val_loss: 822.9210 - val_accuracy: 0.9987\n",
            "Epoch 54/100\n",
            "1641/1641 [==============================] - 5s 3ms/step - loss: 0.0076 - accuracy: 0.9988 - val_loss: 861.7878 - val_accuracy: 0.9987\n",
            "Epoch 55/100\n",
            "1641/1641 [==============================] - 5s 3ms/step - loss: 0.0075 - accuracy: 0.9988 - val_loss: 750.6202 - val_accuracy: 0.9987\n",
            "Epoch 56/100\n",
            "1641/1641 [==============================] - 5s 3ms/step - loss: 0.0074 - accuracy: 0.9988 - val_loss: 861.9590 - val_accuracy: 0.9987\n",
            "Epoch 57/100\n",
            "1641/1641 [==============================] - 5s 3ms/step - loss: 0.0074 - accuracy: 0.9988 - val_loss: 897.3831 - val_accuracy: 0.9987\n",
            "Epoch 58/100\n",
            "1641/1641 [==============================] - 5s 3ms/step - loss: 0.0073 - accuracy: 0.9988 - val_loss: 793.4646 - val_accuracy: 0.9987\n",
            "Epoch 59/100\n",
            "1641/1641 [==============================] - 5s 3ms/step - loss: 0.0072 - accuracy: 0.9988 - val_loss: 846.7647 - val_accuracy: 0.9987\n",
            "Epoch 60/100\n",
            "1641/1641 [==============================] - 5s 3ms/step - loss: 0.0072 - accuracy: 0.9988 - val_loss: 745.6657 - val_accuracy: 0.9987\n",
            "Epoch 61/100\n",
            "1641/1641 [==============================] - 5s 3ms/step - loss: 0.0072 - accuracy: 0.9988 - val_loss: 819.3098 - val_accuracy: 0.9987\n",
            "Epoch 62/100\n",
            "1641/1641 [==============================] - 5s 3ms/step - loss: 0.0071 - accuracy: 0.9988 - val_loss: 825.0118 - val_accuracy: 0.9987\n",
            "Epoch 63/100\n",
            "1641/1641 [==============================] - 5s 3ms/step - loss: 0.0070 - accuracy: 0.9988 - val_loss: 836.0884 - val_accuracy: 0.9595\n",
            "Epoch 64/100\n",
            "1641/1641 [==============================] - 6s 3ms/step - loss: 0.0070 - accuracy: 0.9988 - val_loss: 858.3210 - val_accuracy: 0.9594\n",
            "Epoch 65/100\n",
            "1641/1641 [==============================] - 6s 4ms/step - loss: 0.0070 - accuracy: 0.9988 - val_loss: 872.6777 - val_accuracy: 0.9561\n",
            "Epoch 66/100\n",
            "1641/1641 [==============================] - 5s 3ms/step - loss: 0.0069 - accuracy: 0.9988 - val_loss: 861.6204 - val_accuracy: 0.9532\n",
            "Epoch 67/100\n",
            "1641/1641 [==============================] - 5s 3ms/step - loss: 0.0069 - accuracy: 0.9988 - val_loss: 1002.5720 - val_accuracy: 0.9523\n",
            "Epoch 68/100\n",
            "1641/1641 [==============================] - 5s 3ms/step - loss: 0.0068 - accuracy: 0.9988 - val_loss: 992.7726 - val_accuracy: 0.9516\n",
            "Epoch 69/100\n",
            "1641/1641 [==============================] - 4s 3ms/step - loss: 0.0067 - accuracy: 0.9988 - val_loss: 875.9451 - val_accuracy: 0.9499\n",
            "Epoch 70/100\n",
            "1641/1641 [==============================] - 5s 3ms/step - loss: 0.0066 - accuracy: 0.9988 - val_loss: 1039.5211 - val_accuracy: 0.9539\n",
            "Epoch 71/100\n",
            "1641/1641 [==============================] - 5s 3ms/step - loss: 0.0065 - accuracy: 0.9988 - val_loss: 1006.6376 - val_accuracy: 0.9522\n",
            "Epoch 72/100\n",
            "1641/1641 [==============================] - 5s 3ms/step - loss: 0.0066 - accuracy: 0.9988 - val_loss: 1000.1375 - val_accuracy: 0.9493\n",
            "Epoch 73/100\n",
            "1641/1641 [==============================] - 5s 3ms/step - loss: 0.0065 - accuracy: 0.9988 - val_loss: 1229.1208 - val_accuracy: 0.9514\n",
            "Epoch 74/100\n",
            "1641/1641 [==============================] - 5s 3ms/step - loss: 0.0063 - accuracy: 0.9988 - val_loss: 1288.0002 - val_accuracy: 0.9503\n",
            "Epoch 75/100\n",
            "1641/1641 [==============================] - 5s 3ms/step - loss: 0.0063 - accuracy: 0.9988 - val_loss: 1311.0675 - val_accuracy: 0.9471\n",
            "Epoch 76/100\n",
            "1641/1641 [==============================] - 5s 3ms/step - loss: 0.0063 - accuracy: 0.9988 - val_loss: 1210.7008 - val_accuracy: 0.9518\n",
            "Epoch 77/100\n",
            "1641/1641 [==============================] - 5s 3ms/step - loss: 0.0062 - accuracy: 0.9988 - val_loss: 1420.6190 - val_accuracy: 0.9488\n",
            "Epoch 78/100\n",
            "1641/1641 [==============================] - 5s 3ms/step - loss: 0.0061 - accuracy: 0.9988 - val_loss: 1530.3395 - val_accuracy: 0.9497\n",
            "Epoch 79/100\n",
            "1641/1641 [==============================] - 5s 3ms/step - loss: 0.0062 - accuracy: 0.9988 - val_loss: 1644.3627 - val_accuracy: 0.9466\n",
            "Epoch 80/100\n",
            "1641/1641 [==============================] - 5s 3ms/step - loss: 0.0061 - accuracy: 0.9988 - val_loss: 1580.1511 - val_accuracy: 0.9440\n",
            "Epoch 81/100\n",
            "1641/1641 [==============================] - 5s 3ms/step - loss: 0.0059 - accuracy: 0.9988 - val_loss: 1432.8988 - val_accuracy: 0.9479\n",
            "Epoch 82/100\n",
            "1641/1641 [==============================] - 5s 3ms/step - loss: 0.0061 - accuracy: 0.9988 - val_loss: 1587.4934 - val_accuracy: 0.9461\n",
            "Epoch 83/100\n",
            "1641/1641 [==============================] - 5s 3ms/step - loss: 0.0059 - accuracy: 0.9988 - val_loss: 1884.0842 - val_accuracy: 0.9429\n",
            "Epoch 84/100\n",
            "1641/1641 [==============================] - 5s 3ms/step - loss: 0.0059 - accuracy: 0.9989 - val_loss: 1844.1801 - val_accuracy: 0.9471\n",
            "Epoch 85/100\n",
            "1641/1641 [==============================] - 5s 3ms/step - loss: 0.0061 - accuracy: 0.9989 - val_loss: 1822.1898 - val_accuracy: 0.9445\n",
            "Epoch 86/100\n",
            "1641/1641 [==============================] - 5s 3ms/step - loss: 0.0060 - accuracy: 0.9988 - val_loss: 1707.5862 - val_accuracy: 0.9431\n",
            "Epoch 87/100\n",
            "1641/1641 [==============================] - 5s 3ms/step - loss: 0.0059 - accuracy: 0.9989 - val_loss: 1918.6115 - val_accuracy: 0.9404\n",
            "Epoch 88/100\n",
            "1641/1641 [==============================] - 5s 3ms/step - loss: 0.0060 - accuracy: 0.9988 - val_loss: 1804.5624 - val_accuracy: 0.9440\n",
            "Epoch 89/100\n",
            "1641/1641 [==============================] - 5s 3ms/step - loss: 0.0058 - accuracy: 0.9989 - val_loss: 1697.3021 - val_accuracy: 0.9453\n",
            "Epoch 90/100\n",
            "1641/1641 [==============================] - 5s 3ms/step - loss: 0.0059 - accuracy: 0.9989 - val_loss: 1782.7010 - val_accuracy: 0.9435\n",
            "Epoch 91/100\n",
            "1641/1641 [==============================] - 5s 3ms/step - loss: 0.0058 - accuracy: 0.9989 - val_loss: 2133.3574 - val_accuracy: 0.9453\n",
            "Epoch 92/100\n",
            "1641/1641 [==============================] - 5s 3ms/step - loss: 0.0058 - accuracy: 0.9989 - val_loss: 2019.7720 - val_accuracy: 0.9444\n",
            "Epoch 93/100\n",
            "1641/1641 [==============================] - 5s 3ms/step - loss: 0.0059 - accuracy: 0.9989 - val_loss: 1807.6670 - val_accuracy: 0.9458\n",
            "Epoch 94/100\n",
            "1641/1641 [==============================] - 5s 3ms/step - loss: 0.0058 - accuracy: 0.9989 - val_loss: 1936.9562 - val_accuracy: 0.9461\n",
            "Epoch 95/100\n",
            "1641/1641 [==============================] - 5s 3ms/step - loss: 0.0058 - accuracy: 0.9989 - val_loss: 1869.4728 - val_accuracy: 0.9472\n",
            "Epoch 96/100\n",
            "1641/1641 [==============================] - 5s 3ms/step - loss: 0.0057 - accuracy: 0.9989 - val_loss: 1956.3383 - val_accuracy: 0.9477\n",
            "Epoch 97/100\n",
            "1641/1641 [==============================] - 5s 3ms/step - loss: 0.0058 - accuracy: 0.9989 - val_loss: 2108.7463 - val_accuracy: 0.9488\n",
            "Epoch 98/100\n",
            "1641/1641 [==============================] - 5s 3ms/step - loss: 0.0056 - accuracy: 0.9989 - val_loss: 2102.1631 - val_accuracy: 0.9487\n",
            "Epoch 99/100\n",
            "1641/1641 [==============================] - 5s 3ms/step - loss: 0.0057 - accuracy: 0.9989 - val_loss: 2064.6091 - val_accuracy: 0.9479\n",
            "Epoch 100/100\n",
            "1641/1641 [==============================] - 5s 3ms/step - loss: 0.0057 - accuracy: 0.9989 - val_loss: 2107.5103 - val_accuracy: 0.9506\n"
          ]
        }
      ],
      "source": [
        "# Fit the model using 100 epochs and the training data\n",
        "model_1 = nn.fit(X_train_scaled,y_train,validation_split=0.30, epochs =100)\n"
      ]
    },
    {
      "cell_type": "markdown",
      "metadata": {
        "id": "-9HIvhypTWl0"
      },
      "source": [
        "### Step 5: Evaluate the model using testing data and the `evaluate` method."
      ]
    },
    {
      "cell_type": "code",
      "execution_count": 17,
      "metadata": {
        "colab": {
          "base_uri": "https://localhost:8080/"
        },
        "id": "PEh2UeqVTWl0",
        "outputId": "90f40f4d-0821-40e3-8bb6-4c5f9d52e421"
      },
      "outputs": [
        {
          "output_type": "stream",
          "name": "stdout",
          "text": [
            "782/782 - 1s - loss: 0.0077 - accuracy: 0.9988 - 1s/epoch - 1ms/step\n",
            "Loss: 0.007650223560631275, Accuracy: 0.9988399744033813\n"
          ]
        }
      ],
      "source": [
        "# Evaluate the model loss and accuracy metrics using the evaluate method and the test data\n",
        "model_loss, model_accuracy = nn.evaluate(X_test_scaled, y_test, verbose=2)\n",
        "\n",
        "# Display the evaluation results\n",
        "print(f\"Loss: {model_loss}, Accuracy: {model_accuracy}\")"
      ]
    },
    {
      "cell_type": "code",
      "execution_count": null,
      "metadata": {
        "id": "4rITONzqTWl0"
      },
      "outputs": [],
      "source": []
    }
  ],
  "metadata": {
    "kernelspec": {
      "display_name": "Python 3",
      "language": "python",
      "name": "python3"
    },
    "language_info": {
      "codemirror_mode": {
        "name": "ipython",
        "version": 3
      },
      "file_extension": ".py",
      "mimetype": "text/x-python",
      "name": "python",
      "nbconvert_exporter": "python",
      "pygments_lexer": "ipython3",
      "version": "3.7.7"
    },
    "colab": {
      "provenance": [],
      "include_colab_link": true
    }
  },
  "nbformat": 4,
  "nbformat_minor": 0
}